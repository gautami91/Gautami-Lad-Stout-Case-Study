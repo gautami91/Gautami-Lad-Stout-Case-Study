{
 "cells": [
  {
   "cell_type": "code",
   "execution_count": 1,
   "metadata": {
    "id": "O4ww5WKuF1jU"
   },
   "outputs": [],
   "source": [
    "import pandas as pd\n",
    "import numpy as np\n",
    "import matplotlib.pyplot as plt"
   ]
  },
  {
   "cell_type": "code",
   "execution_count": 3,
   "metadata": {},
   "outputs": [],
   "source": [
    "df = pd.read_csv('casestudy.csv')"
   ]
  },
  {
   "cell_type": "code",
   "execution_count": 4,
   "metadata": {
    "colab": {
     "base_uri": "https://localhost:8080/",
     "height": 417
    },
    "id": "aQWyfT7IG-zl",
    "outputId": "d5a2af72-a0db-4343-adf9-3fa1201003c4"
   },
   "outputs": [
    {
     "data": {
      "text/html": [
       "<div>\n",
       "<style scoped>\n",
       "    .dataframe tbody tr th:only-of-type {\n",
       "        vertical-align: middle;\n",
       "    }\n",
       "\n",
       "    .dataframe tbody tr th {\n",
       "        vertical-align: top;\n",
       "    }\n",
       "\n",
       "    .dataframe thead th {\n",
       "        text-align: right;\n",
       "    }\n",
       "</style>\n",
       "<table border=\"1\" class=\"dataframe\">\n",
       "  <thead>\n",
       "    <tr style=\"text-align: right;\">\n",
       "      <th></th>\n",
       "      <th>Unnamed: 0</th>\n",
       "      <th>customer_email</th>\n",
       "      <th>net_revenue</th>\n",
       "      <th>year</th>\n",
       "    </tr>\n",
       "  </thead>\n",
       "  <tbody>\n",
       "    <tr>\n",
       "      <td>0</td>\n",
       "      <td>0</td>\n",
       "      <td>nhknapwsbx@gmail.com</td>\n",
       "      <td>249.92</td>\n",
       "      <td>2015</td>\n",
       "    </tr>\n",
       "    <tr>\n",
       "      <td>1</td>\n",
       "      <td>1</td>\n",
       "      <td>joiuzbvcpn@gmail.com</td>\n",
       "      <td>87.61</td>\n",
       "      <td>2015</td>\n",
       "    </tr>\n",
       "    <tr>\n",
       "      <td>2</td>\n",
       "      <td>2</td>\n",
       "      <td>ukkjctepxt@gmail.com</td>\n",
       "      <td>168.38</td>\n",
       "      <td>2015</td>\n",
       "    </tr>\n",
       "    <tr>\n",
       "      <td>3</td>\n",
       "      <td>3</td>\n",
       "      <td>gykatilzrt@gmail.com</td>\n",
       "      <td>62.40</td>\n",
       "      <td>2015</td>\n",
       "    </tr>\n",
       "    <tr>\n",
       "      <td>4</td>\n",
       "      <td>4</td>\n",
       "      <td>mmsgsrtxah@gmail.com</td>\n",
       "      <td>43.08</td>\n",
       "      <td>2015</td>\n",
       "    </tr>\n",
       "    <tr>\n",
       "      <td>...</td>\n",
       "      <td>...</td>\n",
       "      <td>...</td>\n",
       "      <td>...</td>\n",
       "      <td>...</td>\n",
       "    </tr>\n",
       "    <tr>\n",
       "      <td>685922</td>\n",
       "      <td>685922</td>\n",
       "      <td>qzqttwiftu@gmail.com</td>\n",
       "      <td>184.58</td>\n",
       "      <td>2017</td>\n",
       "    </tr>\n",
       "    <tr>\n",
       "      <td>685923</td>\n",
       "      <td>685923</td>\n",
       "      <td>pjodiifjop@gmail.com</td>\n",
       "      <td>133.03</td>\n",
       "      <td>2017</td>\n",
       "    </tr>\n",
       "    <tr>\n",
       "      <td>685924</td>\n",
       "      <td>685924</td>\n",
       "      <td>appaplmgko@gmail.com</td>\n",
       "      <td>200.98</td>\n",
       "      <td>2017</td>\n",
       "    </tr>\n",
       "    <tr>\n",
       "      <td>685925</td>\n",
       "      <td>685925</td>\n",
       "      <td>wvkpmwsgck@gmail.com</td>\n",
       "      <td>235.35</td>\n",
       "      <td>2017</td>\n",
       "    </tr>\n",
       "    <tr>\n",
       "      <td>685926</td>\n",
       "      <td>685926</td>\n",
       "      <td>aregboumbw@gmail.com</td>\n",
       "      <td>208.43</td>\n",
       "      <td>2017</td>\n",
       "    </tr>\n",
       "  </tbody>\n",
       "</table>\n",
       "<p>685927 rows × 4 columns</p>\n",
       "</div>"
      ],
      "text/plain": [
       "        Unnamed: 0         customer_email  net_revenue  year\n",
       "0                0   nhknapwsbx@gmail.com       249.92  2015\n",
       "1                1   joiuzbvcpn@gmail.com        87.61  2015\n",
       "2                2   ukkjctepxt@gmail.com       168.38  2015\n",
       "3                3   gykatilzrt@gmail.com        62.40  2015\n",
       "4                4   mmsgsrtxah@gmail.com        43.08  2015\n",
       "...            ...                    ...          ...   ...\n",
       "685922      685922   qzqttwiftu@gmail.com       184.58  2017\n",
       "685923      685923   pjodiifjop@gmail.com       133.03  2017\n",
       "685924      685924   appaplmgko@gmail.com       200.98  2017\n",
       "685925      685925   wvkpmwsgck@gmail.com       235.35  2017\n",
       "685926      685926   aregboumbw@gmail.com       208.43  2017\n",
       "\n",
       "[685927 rows x 4 columns]"
      ]
     },
     "execution_count": 4,
     "metadata": {},
     "output_type": "execute_result"
    }
   ],
   "source": [
    "df"
   ]
  },
  {
   "cell_type": "code",
   "execution_count": 5,
   "metadata": {
    "colab": {
     "base_uri": "https://localhost:8080/"
    },
    "id": "aKMMdUoGW3Oy",
    "outputId": "541f66ab-28df-4667-dbcc-888ca2e9e2aa"
   },
   "outputs": [
    {
     "name": "stdout",
     "output_type": "stream",
     "text": [
      "current year revenue = 31417495.030000016\n"
     ]
    }
   ],
   "source": [
    "################# Q.1 #############################\n",
    "current_year_revenue = df[df['year'] == 2017]['net_revenue'].sum()\n",
    "print('current year revenue =', current_year_revenue )"
   ]
  },
  {
   "cell_type": "code",
   "execution_count": 6,
   "metadata": {
    "id": "A1DWXD9BWgTS"
   },
   "outputs": [],
   "source": [
    "################ Q.2 ####################"
   ]
  },
  {
   "cell_type": "code",
   "execution_count": 7,
   "metadata": {
    "colab": {
     "base_uri": "https://localhost:8080/",
     "height": 417
    },
    "id": "OqWNSieAHPYZ",
    "outputId": "35d0936f-8474-4848-f554-1563d02c98b5"
   },
   "outputs": [
    {
     "data": {
      "text/html": [
       "<div>\n",
       "<style scoped>\n",
       "    .dataframe tbody tr th:only-of-type {\n",
       "        vertical-align: middle;\n",
       "    }\n",
       "\n",
       "    .dataframe tbody tr th {\n",
       "        vertical-align: top;\n",
       "    }\n",
       "\n",
       "    .dataframe thead th {\n",
       "        text-align: right;\n",
       "    }\n",
       "</style>\n",
       "<table border=\"1\" class=\"dataframe\">\n",
       "  <thead>\n",
       "    <tr style=\"text-align: right;\">\n",
       "      <th></th>\n",
       "      <th>Unnamed: 0</th>\n",
       "      <th>customer_email</th>\n",
       "      <th>net_revenue</th>\n",
       "      <th>year</th>\n",
       "    </tr>\n",
       "  </thead>\n",
       "  <tbody>\n",
       "    <tr>\n",
       "      <td>0</td>\n",
       "      <td>0</td>\n",
       "      <td>nhknapwsbx@gmail.com</td>\n",
       "      <td>249.92</td>\n",
       "      <td>2015</td>\n",
       "    </tr>\n",
       "    <tr>\n",
       "      <td>154189</td>\n",
       "      <td>154189</td>\n",
       "      <td>dmwhwcevtw@gmail.com</td>\n",
       "      <td>68.56</td>\n",
       "      <td>2015</td>\n",
       "    </tr>\n",
       "    <tr>\n",
       "      <td>154190</td>\n",
       "      <td>154190</td>\n",
       "      <td>aufzyxucjw@gmail.com</td>\n",
       "      <td>180.88</td>\n",
       "      <td>2015</td>\n",
       "    </tr>\n",
       "    <tr>\n",
       "      <td>154191</td>\n",
       "      <td>154191</td>\n",
       "      <td>eciohbmgyp@gmail.com</td>\n",
       "      <td>216.81</td>\n",
       "      <td>2015</td>\n",
       "    </tr>\n",
       "    <tr>\n",
       "      <td>154192</td>\n",
       "      <td>154192</td>\n",
       "      <td>eqfchvvoak@gmail.com</td>\n",
       "      <td>186.75</td>\n",
       "      <td>2015</td>\n",
       "    </tr>\n",
       "    <tr>\n",
       "      <td>...</td>\n",
       "      <td>...</td>\n",
       "      <td>...</td>\n",
       "      <td>...</td>\n",
       "      <td>...</td>\n",
       "    </tr>\n",
       "    <tr>\n",
       "      <td>519273</td>\n",
       "      <td>519273</td>\n",
       "      <td>noaniodrmk@gmail.com</td>\n",
       "      <td>177.29</td>\n",
       "      <td>2017</td>\n",
       "    </tr>\n",
       "    <tr>\n",
       "      <td>519274</td>\n",
       "      <td>519274</td>\n",
       "      <td>zwnejhirja@gmail.com</td>\n",
       "      <td>139.01</td>\n",
       "      <td>2017</td>\n",
       "    </tr>\n",
       "    <tr>\n",
       "      <td>519275</td>\n",
       "      <td>519275</td>\n",
       "      <td>jgovbltxmu@gmail.com</td>\n",
       "      <td>131.82</td>\n",
       "      <td>2017</td>\n",
       "    </tr>\n",
       "    <tr>\n",
       "      <td>519277</td>\n",
       "      <td>519277</td>\n",
       "      <td>pzytmjawlp@gmail.com</td>\n",
       "      <td>11.15</td>\n",
       "      <td>2017</td>\n",
       "    </tr>\n",
       "    <tr>\n",
       "      <td>685926</td>\n",
       "      <td>685926</td>\n",
       "      <td>aregboumbw@gmail.com</td>\n",
       "      <td>208.43</td>\n",
       "      <td>2017</td>\n",
       "    </tr>\n",
       "  </tbody>\n",
       "</table>\n",
       "<p>685927 rows × 4 columns</p>\n",
       "</div>"
      ],
      "text/plain": [
       "        Unnamed: 0         customer_email  net_revenue  year\n",
       "0                0   nhknapwsbx@gmail.com       249.92  2015\n",
       "154189      154189   dmwhwcevtw@gmail.com        68.56  2015\n",
       "154190      154190   aufzyxucjw@gmail.com       180.88  2015\n",
       "154191      154191   eciohbmgyp@gmail.com       216.81  2015\n",
       "154192      154192   eqfchvvoak@gmail.com       186.75  2015\n",
       "...            ...                    ...          ...   ...\n",
       "519273      519273   noaniodrmk@gmail.com       177.29  2017\n",
       "519274      519274   zwnejhirja@gmail.com       139.01  2017\n",
       "519275      519275   jgovbltxmu@gmail.com       131.82  2017\n",
       "519277      519277  pzytmjawlp@gmail.com         11.15  2017\n",
       "685926      685926   aregboumbw@gmail.com       208.43  2017\n",
       "\n",
       "[685927 rows x 4 columns]"
      ]
     },
     "execution_count": 7,
     "metadata": {},
     "output_type": "execute_result"
    }
   ],
   "source": [
    "df.sort_values('year')"
   ]
  },
  {
   "cell_type": "code",
   "execution_count": 8,
   "metadata": {
    "id": "5B6mLIWkRwkM"
   },
   "outputs": [],
   "source": [
    "df['Occurance'] = np.where(~df['customer_email'].duplicated(),'New','Existing')"
   ]
  },
  {
   "cell_type": "code",
   "execution_count": 9,
   "metadata": {
    "colab": {
     "base_uri": "https://localhost:8080/",
     "height": 417
    },
    "id": "nMihajbmUFaT",
    "outputId": "8c292572-fc40-4c51-a402-879e33d18013"
   },
   "outputs": [
    {
     "data": {
      "text/html": [
       "<div>\n",
       "<style scoped>\n",
       "    .dataframe tbody tr th:only-of-type {\n",
       "        vertical-align: middle;\n",
       "    }\n",
       "\n",
       "    .dataframe tbody tr th {\n",
       "        vertical-align: top;\n",
       "    }\n",
       "\n",
       "    .dataframe thead th {\n",
       "        text-align: right;\n",
       "    }\n",
       "</style>\n",
       "<table border=\"1\" class=\"dataframe\">\n",
       "  <thead>\n",
       "    <tr style=\"text-align: right;\">\n",
       "      <th></th>\n",
       "      <th>Unnamed: 0</th>\n",
       "      <th>customer_email</th>\n",
       "      <th>net_revenue</th>\n",
       "      <th>year</th>\n",
       "      <th>Occurance</th>\n",
       "    </tr>\n",
       "  </thead>\n",
       "  <tbody>\n",
       "    <tr>\n",
       "      <td>0</td>\n",
       "      <td>0</td>\n",
       "      <td>nhknapwsbx@gmail.com</td>\n",
       "      <td>249.92</td>\n",
       "      <td>2015</td>\n",
       "      <td>New</td>\n",
       "    </tr>\n",
       "    <tr>\n",
       "      <td>1</td>\n",
       "      <td>1</td>\n",
       "      <td>joiuzbvcpn@gmail.com</td>\n",
       "      <td>87.61</td>\n",
       "      <td>2015</td>\n",
       "      <td>New</td>\n",
       "    </tr>\n",
       "    <tr>\n",
       "      <td>2</td>\n",
       "      <td>2</td>\n",
       "      <td>ukkjctepxt@gmail.com</td>\n",
       "      <td>168.38</td>\n",
       "      <td>2015</td>\n",
       "      <td>New</td>\n",
       "    </tr>\n",
       "    <tr>\n",
       "      <td>3</td>\n",
       "      <td>3</td>\n",
       "      <td>gykatilzrt@gmail.com</td>\n",
       "      <td>62.40</td>\n",
       "      <td>2015</td>\n",
       "      <td>New</td>\n",
       "    </tr>\n",
       "    <tr>\n",
       "      <td>4</td>\n",
       "      <td>4</td>\n",
       "      <td>mmsgsrtxah@gmail.com</td>\n",
       "      <td>43.08</td>\n",
       "      <td>2015</td>\n",
       "      <td>New</td>\n",
       "    </tr>\n",
       "    <tr>\n",
       "      <td>...</td>\n",
       "      <td>...</td>\n",
       "      <td>...</td>\n",
       "      <td>...</td>\n",
       "      <td>...</td>\n",
       "      <td>...</td>\n",
       "    </tr>\n",
       "    <tr>\n",
       "      <td>685922</td>\n",
       "      <td>685922</td>\n",
       "      <td>qzqttwiftu@gmail.com</td>\n",
       "      <td>184.58</td>\n",
       "      <td>2017</td>\n",
       "      <td>New</td>\n",
       "    </tr>\n",
       "    <tr>\n",
       "      <td>685923</td>\n",
       "      <td>685923</td>\n",
       "      <td>pjodiifjop@gmail.com</td>\n",
       "      <td>133.03</td>\n",
       "      <td>2017</td>\n",
       "      <td>New</td>\n",
       "    </tr>\n",
       "    <tr>\n",
       "      <td>685924</td>\n",
       "      <td>685924</td>\n",
       "      <td>appaplmgko@gmail.com</td>\n",
       "      <td>200.98</td>\n",
       "      <td>2017</td>\n",
       "      <td>New</td>\n",
       "    </tr>\n",
       "    <tr>\n",
       "      <td>685925</td>\n",
       "      <td>685925</td>\n",
       "      <td>wvkpmwsgck@gmail.com</td>\n",
       "      <td>235.35</td>\n",
       "      <td>2017</td>\n",
       "      <td>New</td>\n",
       "    </tr>\n",
       "    <tr>\n",
       "      <td>685926</td>\n",
       "      <td>685926</td>\n",
       "      <td>aregboumbw@gmail.com</td>\n",
       "      <td>208.43</td>\n",
       "      <td>2017</td>\n",
       "      <td>New</td>\n",
       "    </tr>\n",
       "  </tbody>\n",
       "</table>\n",
       "<p>685927 rows × 5 columns</p>\n",
       "</div>"
      ],
      "text/plain": [
       "        Unnamed: 0         customer_email  net_revenue  year Occurance\n",
       "0                0   nhknapwsbx@gmail.com       249.92  2015       New\n",
       "1                1   joiuzbvcpn@gmail.com        87.61  2015       New\n",
       "2                2   ukkjctepxt@gmail.com       168.38  2015       New\n",
       "3                3   gykatilzrt@gmail.com        62.40  2015       New\n",
       "4                4   mmsgsrtxah@gmail.com        43.08  2015       New\n",
       "...            ...                    ...          ...   ...       ...\n",
       "685922      685922   qzqttwiftu@gmail.com       184.58  2017       New\n",
       "685923      685923   pjodiifjop@gmail.com       133.03  2017       New\n",
       "685924      685924   appaplmgko@gmail.com       200.98  2017       New\n",
       "685925      685925   wvkpmwsgck@gmail.com       235.35  2017       New\n",
       "685926      685926   aregboumbw@gmail.com       208.43  2017       New\n",
       "\n",
       "[685927 rows x 5 columns]"
      ]
     },
     "execution_count": 9,
     "metadata": {},
     "output_type": "execute_result"
    }
   ],
   "source": [
    "df"
   ]
  },
  {
   "cell_type": "code",
   "execution_count": 10,
   "metadata": {
    "id": "Rrp9LWtKHx_H"
   },
   "outputs": [],
   "source": [
    "df_newonly = df[df['Occurance']=='New']"
   ]
  },
  {
   "cell_type": "code",
   "execution_count": 11,
   "metadata": {
    "colab": {
     "base_uri": "https://localhost:8080/"
    },
    "id": "giq0LB_GUIe0",
    "outputId": "890f0dd5-9eea-478d-efc6-cbf49cc6ca0f"
   },
   "outputs": [
    {
     "data": {
      "text/plain": [
       "year\n",
       "2015    29036749.19\n",
       "2016    18245491.01\n",
       "2017    28676607.64\n",
       "Name: net_revenue, dtype: float64"
      ]
     },
     "execution_count": 11,
     "metadata": {},
     "output_type": "execute_result"
    }
   ],
   "source": [
    "df_newonly.groupby('year')['net_revenue'].sum()"
   ]
  },
  {
   "cell_type": "code",
   "execution_count": 12,
   "metadata": {
    "colab": {
     "base_uri": "https://localhost:8080/"
    },
    "id": "bPV2_AfXVq3e",
    "outputId": "d5aa0191-494c-4c56-cf16-4592189fb912"
   },
   "outputs": [
    {
     "name": "stdout",
     "output_type": "stream",
     "text": [
      "\u001b[1m Total New Customer Revenue =  75958847.84\n"
     ]
    }
   ],
   "source": [
    "print('\\033[1m','Total New Customer Revenue = ', str(round(df_newonly['net_revenue'].sum(),2)))"
   ]
  },
  {
   "cell_type": "code",
   "execution_count": 13,
   "metadata": {
    "id": "-1mLSvOKXWvQ"
   },
   "outputs": [],
   "source": [
    "############### Q.3 ##############################"
   ]
  },
  {
   "cell_type": "code",
   "execution_count": 14,
   "metadata": {
    "id": "4xjMrvrBcnhJ"
   },
   "outputs": [],
   "source": [
    "df_existingCust = df[df['Occurance']== 'Existing']"
   ]
  },
  {
   "cell_type": "code",
   "execution_count": 15,
   "metadata": {
    "colab": {
     "base_uri": "https://localhost:8080/",
     "height": 417
    },
    "id": "Cfour5lcdF5t",
    "outputId": "c793db84-89e8-436b-8e5d-390f486edffe"
   },
   "outputs": [
    {
     "data": {
      "text/html": [
       "<div>\n",
       "<style scoped>\n",
       "    .dataframe tbody tr th:only-of-type {\n",
       "        vertical-align: middle;\n",
       "    }\n",
       "\n",
       "    .dataframe tbody tr th {\n",
       "        vertical-align: top;\n",
       "    }\n",
       "\n",
       "    .dataframe thead th {\n",
       "        text-align: right;\n",
       "    }\n",
       "</style>\n",
       "<table border=\"1\" class=\"dataframe\">\n",
       "  <thead>\n",
       "    <tr style=\"text-align: right;\">\n",
       "      <th></th>\n",
       "      <th>Unnamed: 0</th>\n",
       "      <th>customer_email</th>\n",
       "      <th>net_revenue</th>\n",
       "      <th>year</th>\n",
       "      <th>Occurance</th>\n",
       "    </tr>\n",
       "  </thead>\n",
       "  <tbody>\n",
       "    <tr>\n",
       "      <td>231302</td>\n",
       "      <td>231302</td>\n",
       "      <td>baiikostmd@gmail.com</td>\n",
       "      <td>142.57</td>\n",
       "      <td>2016</td>\n",
       "      <td>Existing</td>\n",
       "    </tr>\n",
       "    <tr>\n",
       "      <td>231303</td>\n",
       "      <td>231303</td>\n",
       "      <td>lfeafnigbu@gmail.com</td>\n",
       "      <td>35.06</td>\n",
       "      <td>2016</td>\n",
       "      <td>Existing</td>\n",
       "    </tr>\n",
       "    <tr>\n",
       "      <td>231309</td>\n",
       "      <td>231309</td>\n",
       "      <td>tqxsjlgjpi@gmail.com</td>\n",
       "      <td>33.50</td>\n",
       "      <td>2016</td>\n",
       "      <td>Existing</td>\n",
       "    </tr>\n",
       "    <tr>\n",
       "      <td>231310</td>\n",
       "      <td>231310</td>\n",
       "      <td>hxshgpdxtr@gmail.com</td>\n",
       "      <td>217.35</td>\n",
       "      <td>2016</td>\n",
       "      <td>Existing</td>\n",
       "    </tr>\n",
       "    <tr>\n",
       "      <td>231318</td>\n",
       "      <td>231318</td>\n",
       "      <td>zvhsssvgor@gmail.com</td>\n",
       "      <td>43.84</td>\n",
       "      <td>2016</td>\n",
       "      <td>Existing</td>\n",
       "    </tr>\n",
       "    <tr>\n",
       "      <td>...</td>\n",
       "      <td>...</td>\n",
       "      <td>...</td>\n",
       "      <td>...</td>\n",
       "      <td>...</td>\n",
       "      <td>...</td>\n",
       "    </tr>\n",
       "    <tr>\n",
       "      <td>640562</td>\n",
       "      <td>640562</td>\n",
       "      <td>flkeldljhv@gmail.com</td>\n",
       "      <td>180.01</td>\n",
       "      <td>2017</td>\n",
       "      <td>Existing</td>\n",
       "    </tr>\n",
       "    <tr>\n",
       "      <td>640568</td>\n",
       "      <td>640568</td>\n",
       "      <td>ecrvkbfunu@gmail.com</td>\n",
       "      <td>205.42</td>\n",
       "      <td>2017</td>\n",
       "      <td>Existing</td>\n",
       "    </tr>\n",
       "    <tr>\n",
       "      <td>640571</td>\n",
       "      <td>640571</td>\n",
       "      <td>tpdtoiokyt@gmail.com</td>\n",
       "      <td>242.63</td>\n",
       "      <td>2017</td>\n",
       "      <td>Existing</td>\n",
       "    </tr>\n",
       "    <tr>\n",
       "      <td>640580</td>\n",
       "      <td>640580</td>\n",
       "      <td>dcakqgznnm@gmail.com</td>\n",
       "      <td>62.66</td>\n",
       "      <td>2017</td>\n",
       "      <td>Existing</td>\n",
       "    </tr>\n",
       "    <tr>\n",
       "      <td>640583</td>\n",
       "      <td>640583</td>\n",
       "      <td>fkweqlmmjw@gmail.com</td>\n",
       "      <td>21.78</td>\n",
       "      <td>2017</td>\n",
       "      <td>Existing</td>\n",
       "    </tr>\n",
       "  </tbody>\n",
       "</table>\n",
       "<p>81309 rows × 5 columns</p>\n",
       "</div>"
      ],
      "text/plain": [
       "        Unnamed: 0         customer_email  net_revenue  year Occurance\n",
       "231302      231302   baiikostmd@gmail.com       142.57  2016  Existing\n",
       "231303      231303   lfeafnigbu@gmail.com        35.06  2016  Existing\n",
       "231309      231309   tqxsjlgjpi@gmail.com        33.50  2016  Existing\n",
       "231310      231310   hxshgpdxtr@gmail.com       217.35  2016  Existing\n",
       "231318      231318   zvhsssvgor@gmail.com        43.84  2016  Existing\n",
       "...            ...                    ...          ...   ...       ...\n",
       "640562      640562   flkeldljhv@gmail.com       180.01  2017  Existing\n",
       "640568      640568   ecrvkbfunu@gmail.com       205.42  2017  Existing\n",
       "640571      640571   tpdtoiokyt@gmail.com       242.63  2017  Existing\n",
       "640580      640580   dcakqgznnm@gmail.com        62.66  2017  Existing\n",
       "640583      640583   fkweqlmmjw@gmail.com        21.78  2017  Existing\n",
       "\n",
       "[81309 rows x 5 columns]"
      ]
     },
     "execution_count": 15,
     "metadata": {},
     "output_type": "execute_result"
    }
   ],
   "source": [
    "df_existingCust"
   ]
  },
  {
   "cell_type": "code",
   "execution_count": 16,
   "metadata": {
    "colab": {
     "base_uri": "https://localhost:8080/"
    },
    "id": "oyUtk9lLcvqZ",
    "outputId": "b2f3b1b3-1a6f-40cf-ffe6-416943efacf3"
   },
   "outputs": [
    {
     "data": {
      "text/plain": [
       "year\n",
       "2016    7485452.58\n",
       "2017    2740887.39\n",
       "Name: net_revenue, dtype: float64"
      ]
     },
     "execution_count": 16,
     "metadata": {},
     "output_type": "execute_result"
    }
   ],
   "source": [
    "df_existingCust.groupby('year')['net_revenue'].sum()"
   ]
  },
  {
   "cell_type": "code",
   "execution_count": 17,
   "metadata": {
    "id": "wEM6dpxSqvYa"
   },
   "outputs": [],
   "source": [
    "Existing_Cust_growth = df_existingCust[df_existingCust['year']==2017]['net_revenue'].sum() - df_existingCust[df_existingCust['year']==2016]['net_revenue'].sum()"
   ]
  },
  {
   "cell_type": "code",
   "execution_count": 18,
   "metadata": {
    "colab": {
     "base_uri": "https://localhost:8080/"
    },
    "id": "sNOB-QdSqvb_",
    "outputId": "b7e22509-91de-4843-a040-b746d41c0fb2"
   },
   "outputs": [
    {
     "name": "stdout",
     "output_type": "stream",
     "text": [
      "\u001b[1m Existing Customer Growth in Current Year = -4744565.19\n"
     ]
    }
   ],
   "source": [
    "print('\\033[1m','Existing Customer Growth in Current Year =', Existing_Cust_growth)"
   ]
  },
  {
   "cell_type": "markdown",
   "metadata": {
    "id": "qc1tfPa1yBV8"
   },
   "source": [
    "\n",
    " **Existing customer growth is negative. Revenue from existing customers is reduced compared to last year**"
   ]
  },
  {
   "cell_type": "code",
   "execution_count": 19,
   "metadata": {
    "id": "h7CadNxqc_mR"
   },
   "outputs": [],
   "source": [
    "############ Q.4 ##############"
   ]
  },
  {
   "cell_type": "code",
   "execution_count": 20,
   "metadata": {
    "id": "pbCYZO0QeBVM"
   },
   "outputs": [],
   "source": [
    "yearly_revenue = df.groupby('year')['net_revenue'].sum()"
   ]
  },
  {
   "cell_type": "code",
   "execution_count": 21,
   "metadata": {
    "colab": {
     "base_uri": "https://localhost:8080/"
    },
    "id": "hfo-H5KgeIdx",
    "outputId": "7d80d874-ead5-4f05-d2b2-a32504eaf310"
   },
   "outputs": [
    {
     "data": {
      "text/plain": [
       "year\n",
       "2015    29036749.19\n",
       "2016    25730943.59\n",
       "2017    31417495.03\n",
       "Name: net_revenue, dtype: float64"
      ]
     },
     "execution_count": 21,
     "metadata": {},
     "output_type": "execute_result"
    }
   ],
   "source": [
    "yearly_revenue"
   ]
  },
  {
   "cell_type": "code",
   "execution_count": 22,
   "metadata": {
    "colab": {
     "base_uri": "https://localhost:8080/"
    },
    "id": "OQcNlbP4qSH8",
    "outputId": "a200bc08-b6b3-48b7-a31f-9eff1ef20136"
   },
   "outputs": [
    {
     "name": "stdout",
     "output_type": "stream",
     "text": [
      "\u001b[1m Revenue Lost in Attrition in 2017 = -5686551.44\n",
      "\u001b[1m Revenue Lost Attrition in 2016 = 3305805.6\n"
     ]
    }
   ],
   "source": [
    "print('\\033[1m','Revenue Lost in Attrition in 2017 =', str(round(df[df['year']==2016]['net_revenue'].sum() -  df[df['year']==2017]['net_revenue'].sum(),2)))\n",
    "print('\\033[1m','Revenue Lost Attrition in 2016 =', str(round(df[df['year']==2015]['net_revenue'].sum() -  df[df['year']==2016]['net_revenue'].sum(),2)))\n",
    "#print('\\033[1m','NO REVENUE LOST IN ATTRItTION IN 2017')"
   ]
  },
  {
   "cell_type": "code",
   "execution_count": 23,
   "metadata": {
    "colab": {
     "base_uri": "https://localhost:8080/"
    },
    "id": "FIYlGUGwv-2s",
    "outputId": "baf3d233-b601-4a7c-f04a-09c48433cddd"
   },
   "outputs": [
    {
     "name": "stdout",
     "output_type": "stream",
     "text": [
      "\u001b[1m Revenue Lost in Existing Customers Attrition_in 2017 = 15504603.62\n",
      "\u001b[1m Revenue Lost in Existing Custoner Attrition in 2016 = 21551296.61\n"
     ]
    }
   ],
   "source": [
    "print('\\033[1m','Revenue Lost in Existing Customers Attrition_in 2017 =', str(round(df_newonly[df_newonly['year']==2016]['net_revenue'].sum() -  df_existingCust[df_existingCust['year']==2017]['net_revenue'].sum(),2)))\n",
    "print('\\033[1m','Revenue Lost in Existing Custoner Attrition in 2016 =', str(round(df_newonly[df_newonly['year']==2015]['net_revenue'].sum() -  df_existingCust[df_existingCust['year']==2016]['net_revenue'].sum(),2)))"
   ]
  },
  {
   "cell_type": "code",
   "execution_count": 24,
   "metadata": {
    "id": "zuHNi22IntLH"
   },
   "outputs": [],
   "source": [
    "############## Q.5 ################"
   ]
  },
  {
   "cell_type": "code",
   "execution_count": 25,
   "metadata": {
    "colab": {
     "base_uri": "https://localhost:8080/"
    },
    "id": "KbJOI6K3qjVs",
    "outputId": "4e2e6a3f-0ffe-4f2a-9aed-c8dda63ffddf"
   },
   "outputs": [
    {
     "name": "stdout",
     "output_type": "stream",
     "text": [
      "\u001b[1m Existing Customer Revenue in Current Year = 2740887.39\n"
     ]
    }
   ],
   "source": [
    "print('\\033[1m','Existing Customer Revenue in Current Year =', str(round(df_existingCust[df_existingCust['year']==2017]['net_revenue'].sum(),2)))"
   ]
  },
  {
   "cell_type": "code",
   "execution_count": null,
   "metadata": {
    "id": "RRpj_kcxuSsF"
   },
   "outputs": [],
   "source": [
    "############ Q.6 ##############"
   ]
  },
  {
   "cell_type": "code",
   "execution_count": 26,
   "metadata": {
    "colab": {
     "base_uri": "https://localhost:8080/"
    },
    "id": "YcijTtYqueWN",
    "outputId": "cd0c4053-25e9-4208-c957-afc3731e7785"
   },
   "outputs": [
    {
     "name": "stdout",
     "output_type": "stream",
     "text": [
      "\u001b[1m Existing Customer Revenue in Prior Year = 7485452.58 USD\n"
     ]
    }
   ],
   "source": [
    "print('\\033[1m','Existing Customer Revenue in Prior Year =', df_existingCust[df_existingCust['year']==2016]['net_revenue'].sum(), 'USD')"
   ]
  },
  {
   "cell_type": "code",
   "execution_count": null,
   "metadata": {
    "id": "CZR-s__Duh9O"
   },
   "outputs": [],
   "source": [
    "########## Q.7 ###########3"
   ]
  },
  {
   "cell_type": "code",
   "execution_count": 27,
   "metadata": {
    "colab": {
     "base_uri": "https://localhost:8080/"
    },
    "id": "s2J2ny3xuqih",
    "outputId": "0902e16a-8118-41bf-f25c-1966e1dfdb1c"
   },
   "outputs": [
    {
     "name": "stdout",
     "output_type": "stream",
     "text": [
      "\u001b[1m Total Customers in Current Year = 249987\n"
     ]
    }
   ],
   "source": [
    "print('\\033[1m','Total Customers in Current Year =', df[df['year']==2017]['customer_email'].count())"
   ]
  },
  {
   "cell_type": "code",
   "execution_count": 28,
   "metadata": {
    "id": "bTJXvS-muzOq"
   },
   "outputs": [],
   "source": [
    "########### Q.8 ##############3"
   ]
  },
  {
   "cell_type": "code",
   "execution_count": 29,
   "metadata": {
    "colab": {
     "base_uri": "https://localhost:8080/"
    },
    "id": "xTKO58ieveL4",
    "outputId": "70564a56-6ef6-4b76-9d95-b3c84853ee41"
   },
   "outputs": [
    {
     "name": "stdout",
     "output_type": "stream",
     "text": [
      "\u001b[1m Total Customers in Previous Year = 204646\n"
     ]
    }
   ],
   "source": [
    "print('\\033[1m','Total Customers in Previous Year =', df[df['year']==2016]['customer_email'].count())"
   ]
  },
  {
   "cell_type": "code",
   "execution_count": 30,
   "metadata": {
    "id": "lFNLK7oRvhVg"
   },
   "outputs": [],
   "source": [
    "########## Q.9 ###############"
   ]
  },
  {
   "cell_type": "code",
   "execution_count": 31,
   "metadata": {
    "colab": {
     "base_uri": "https://localhost:8080/"
    },
    "id": "rGdJhTONvpvD",
    "outputId": "c053bced-c95e-4e32-9701-d294bc778f89"
   },
   "outputs": [
    {
     "name": "stdout",
     "output_type": "stream",
     "text": [
      "New Customers = 604618\n"
     ]
    }
   ],
   "source": [
    "print('New Customers =', df_newonly['customer_email'].count())"
   ]
  },
  {
   "cell_type": "code",
   "execution_count": 32,
   "metadata": {
    "colab": {
     "base_uri": "https://localhost:8080/"
    },
    "id": "q9aAcB4R4AZy",
    "outputId": "960fc98e-e8f8-416e-a17f-86cab135538d"
   },
   "outputs": [
    {
     "name": "stdout",
     "output_type": "stream",
     "text": [
      "\u001b[1m New Customers in Current Year = 228262\n"
     ]
    }
   ],
   "source": [
    "print('\\033[1m','New Customers in Current Year =', df_newonly[df_newonly['year']==2017]['customer_email'].count())"
   ]
  },
  {
   "cell_type": "code",
   "execution_count": 33,
   "metadata": {
    "id": "AbeCZ7bOv-PT"
   },
   "outputs": [],
   "source": [
    "############ Q.10 ##################"
   ]
  },
  {
   "cell_type": "code",
   "execution_count": 34,
   "metadata": {
    "colab": {
     "base_uri": "https://localhost:8080/"
    },
    "id": "z48n25kuwJIV",
    "outputId": "b6bc24be-ff61-4242-c49d-2fab8fbb3bf9"
   },
   "outputs": [],
   "source": [
    "#Existing_Customers_2016 = df_existingCust[df_existingCust['year']==2016]['customer_email'].count() \n",
    "#Existing_Customers_2016 "
   ]
  },
  {
   "cell_type": "code",
   "execution_count": 35,
   "metadata": {
    "colab": {
     "base_uri": "https://localhost:8080/"
    },
    "id": "r52dUdAh9Ilv",
    "outputId": "b6fd3987-bada-4edc-9f65-073749e857e1"
   },
   "outputs": [
    {
     "data": {
      "text/plain": [
       "231294"
      ]
     },
     "execution_count": 35,
     "metadata": {},
     "output_type": "execute_result"
    }
   ],
   "source": [
    "df_newonly[df_newonly['year']==2015]['customer_email'].count()"
   ]
  },
  {
   "cell_type": "code",
   "execution_count": 36,
   "metadata": {
    "colab": {
     "base_uri": "https://localhost:8080/"
    },
    "id": "0vKNvm3F9Mhj",
    "outputId": "9ed0c080-34fd-4cf7-f856-da6016fea644"
   },
   "outputs": [
    {
     "data": {
      "text/plain": [
       "59584"
      ]
     },
     "execution_count": 36,
     "metadata": {},
     "output_type": "execute_result"
    }
   ],
   "source": [
    "df_existingCust[df_existingCust['year']==2016]['customer_email'].count() "
   ]
  },
  {
   "cell_type": "code",
   "execution_count": 37,
   "metadata": {
    "colab": {
     "base_uri": "https://localhost:8080/"
    },
    "id": "rWTL8pqmwiFB",
    "outputId": "61d0819a-a197-4cfe-8ae2-16488cd30428"
   },
   "outputs": [
    {
     "name": "stdout",
     "output_type": "stream",
     "text": [
      "\u001b[1mLost Customers in 2016 = 171710\n"
     ]
    }
   ],
   "source": [
    " Lost_Customers_2016 = df[df['year']==2015]['customer_email'].count() - df_existingCust[df_existingCust['year']==2016]['customer_email'].count() \n",
    " print('\\033[1m'+'Lost Customers in 2016 =', Lost_Customers_2016)"
   ]
  },
  {
   "cell_type": "code",
   "execution_count": 38,
   "metadata": {
    "colab": {
     "base_uri": "https://localhost:8080/"
    },
    "id": "TWp5UCquxjSG",
    "outputId": "4e40fcf5-8456-4021-f743-12dd5b582d61"
   },
   "outputs": [
    {
     "name": "stdout",
     "output_type": "stream",
     "text": [
      "\u001b[1m Lost Customers in 2017 = 182921\n"
     ]
    }
   ],
   "source": [
    "Lost_Customers_2017 = df[df['year']==2016]['customer_email'].count() - df_existingCust[df_existingCust['year']==2017]['customer_email'].count() \n",
    "print('\\033[1m','Lost Customers in 2017 =', Lost_Customers_2017)"
   ]
  },
  {
   "cell_type": "code",
   "execution_count": 39,
   "metadata": {
    "colab": {
     "base_uri": "https://localhost:8080/"
    },
    "id": "3-EzG82XyVPd",
    "outputId": "7bf8abbc-2611-45ba-d3d1-20bda5e1c740"
   },
   "outputs": [
    {
     "name": "stdout",
     "output_type": "stream",
     "text": [
      "\u001b[1m Total Lost Customers = 354631\n"
     ]
    }
   ],
   "source": [
    "print('\\033[1m','Total Lost Customers =', Lost_Customers_2016 + Lost_Customers_2017)"
   ]
  },
  {
   "cell_type": "code",
   "execution_count": 40,
   "metadata": {
    "id": "3UwVZbG1ydnm"
   },
   "outputs": [],
   "source": [
    "########### Plots ##############3"
   ]
  },
  {
   "cell_type": "code",
   "execution_count": 41,
   "metadata": {
    "colab": {
     "base_uri": "https://localhost:8080/",
     "height": 328
    },
    "id": "abwERdWK4Jr6",
    "outputId": "a2522554-3b71-4eb6-e255-f61d36bcb12b"
   },
   "outputs": [
    {
     "data": {
      "text/plain": [
       "Text(0, 0.5, 'Customers')"
      ]
     },
     "execution_count": 41,
     "metadata": {},
     "output_type": "execute_result"
    },
    {
     "data": {
      "image/png": "[encoded data removed]",
      "text/plain": [
       "<Figure size 432x288 with 1 Axes>"
      ]
     },
     "metadata": {
      "needs_background": "light"
     },
     "output_type": "display_data"
    }
   ],
   "source": [
    "Total_Cust_Yearly=df.groupby(['year', 'Occurance'])['customer_email'].size().unstack().plot(kind='bar', stacked = True)\n",
    "Total_Cust_Yearly.set_title('Total Customers_Yearly')\n",
    "Total_Cust_Yearly.legend( loc='upper center', fancybox=True,) #bbox_to_anchor=(0.5, 1.05),\n",
    "Total_Cust_Yearly.set_xlabel('year')\n",
    "Total_Cust_Yearly.set_ylabel('Customers')"
   ]
  },
  {
   "cell_type": "code",
   "execution_count": 42,
   "metadata": {
    "colab": {
     "base_uri": "https://localhost:8080/",
     "height": 328
    },
    "id": "7LuagqzC-a2x",
    "outputId": "33bfb1a3-a56c-47c2-e830-39b243c10fa3"
   },
   "outputs": [
    {
     "data": {
      "text/plain": [
       "Text(0, 0.5, 'Net Revenue')"
      ]
     },
     "execution_count": 42,
     "metadata": {},
     "output_type": "execute_result"
    },
    {
     "data": {
      "image/png": "[encoded data removed]",
      "text/plain": [
       "<Figure size 432x288 with 1 Axes>"
      ]
     },
     "metadata": {
      "needs_background": "light"
     },
     "output_type": "display_data"
    }
   ],
   "source": [
    "Total_yearly_revenue_ = df.groupby(['year', 'Occurance'])['net_revenue'].sum().unstack().plot(kind='bar',stacked=True)\n",
    "Total_yearly_revenue_.set_title('Total Revenue_Yearly')\n",
    "Total_yearly_revenue_.legend( loc='upper center', fancybox=True,) #bbox_to_anchor=(0.5, 1.05),\n",
    "Total_yearly_revenue_.set_xlabel('year')\n",
    "Total_yearly_revenue_.set_ylabel('Net Revenue')"
   ]
  },
  {
   "cell_type": "markdown",
   "metadata": {
    "id": "6rM3cA0m8F6Z"
   },
   "source": [
    " Customer retention and revenue from existing customers deopped in 2017. \n"
   ]
  },
  {
   "cell_type": "code",
   "execution_count": 43,
   "metadata": {
    "colab": {
     "base_uri": "https://localhost:8080/"
    },
    "id": "SYe5bBf-6X0B",
    "outputId": "5355d3d8-1617-4993-dd0e-fab06e342860"
   },
   "outputs": [
    {
     "name": "stdout",
     "output_type": "stream",
     "text": [
      "\u001b[1m Percent of existing customers retained in 2016= 25.76 %\n"
     ]
    }
   ],
   "source": [
    "Percent_of_customers_retained_in_2016 = ((df[df['year']==2015]['customer_email'].count() - Lost_Customers_2016)/df_newonly[df_newonly['year']==2015]['customer_email'].count())*100\n",
    "Percent_of_customers_retained_in_2016 = str(round(Percent_of_customers_retained_in_2016, 2))\n",
    "print('\\033[1m','Percent of existing customers retained in 2016=',Percent_of_customers_retained_in_2016,'%')"
   ]
  },
  {
   "cell_type": "code",
   "execution_count": 44,
   "metadata": {
    "colab": {
     "base_uri": "https://localhost:8080/"
    },
    "id": "kIAwSvGN9yRz",
    "outputId": "0191349e-5af0-44fb-b812-e5400efa9a46"
   },
   "outputs": [
    {
     "name": "stdout",
     "output_type": "stream",
     "text": [
      "\u001b[1m Percent of existing customers retained in 2017= 10.62 %\n"
     ]
    }
   ],
   "source": [
    "Percent_of_customers_retained_in_2017 = ((df[df['year']==2016]['customer_email'].count() - Lost_Customers_2017)/df[df['year']==2016]['customer_email'].count())*100\n",
    "Percent_of_customers_retained_in_2017 = str(round(Percent_of_customers_retained_in_2017, 2))\n",
    "print('\\033[1m','Percent of existing customers retained in 2017=',Percent_of_customers_retained_in_2017,'%')"
   ]
  },
  {
   "cell_type": "code",
   "execution_count": null,
   "metadata": {
    "id": "tlPX-ykQ_JBm"
   },
   "outputs": [],
   "source": [
    "## It is observed in bar plot for customer that the company could retain around 25% in the next year 2016 \n",
    "##and in 2017 the company retained 10% customers but however made more total number of customers than year 2015 & 2016"
   ]
  }
 ],
 "metadata": {
  "colab": {
   "name": "Stout_Data_Analytics_Internship_Assignment2.ipynb",
   "provenance": []
  },
  "kernelspec": {
   "display_name": "Python 3",
   "language": "python",
   "name": "python3"
  },
  "language_info": {
   "codemirror_mode": {
    "name": "ipython",
    "version": 3
   },
   "file_extension": ".py",
   "mimetype": "text/x-python",
   "name": "python",
   "nbconvert_exporter": "python",
   "pygments_lexer": "ipython3",
   "version": "3.7.4"
  }
 },
 "nbformat": 4,
 "nbformat_minor": 1
}
